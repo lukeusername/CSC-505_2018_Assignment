{
 "cells": [
  {
   "cell_type": "code",
   "execution_count": 5,
   "metadata": {},
   "outputs": [
    {
     "name": "stdout",
     "output_type": "stream",
     "text": [
      "C:\\Users\\Luke\\Documents\\GitHub\\CSC-505_2018_Assignment\\Assignment_1\\data\n"
     ]
    }
   ],
   "source": [
    "%cd C:\\Users\\Luke\\Documents\\GitHub\\CSC-505_2018_Assignment\\Assignment_1\\data"
   ]
  },
  {
   "cell_type": "code",
   "execution_count": 56,
   "metadata": {},
   "outputs": [
    {
     "name": "stdout",
     "output_type": "stream",
     "text": [
      "Group: 1\n",
      "20\n",
      "['Evan Rhoades', '879020']\n",
      "13\n",
      "['Jonathan Langston', '115719']\n",
      "3\n",
      "['Oana Dumitrescu', '928538']\n",
      "5\n",
      "['Rohit Gulia', '718591']\n",
      "Group: 2\n",
      "3\n",
      "['Maclean Frazier', '919611']\n",
      "22\n",
      "['Linh Tran', '689359']\n",
      "16\n",
      "['Bety Rostandy', '88452']\n",
      "6\n",
      "['Phillip Jones', '342206']\n",
      "Group: 3\n",
      "10\n",
      "['Garrett Mostella', '665278']\n",
      "0\n",
      "['Cody Cothern', '607252']\n",
      "3\n",
      "['Logan Hornbuckle', '668967']\n",
      "0\n",
      "['Evan Crabtree', '90387']\n",
      "Group: 4\n",
      "19\n",
      "['Bhavana Yennam', '91253']\n",
      "9\n",
      "['Richard Powell', '838561']\n",
      "13\n",
      "['Hadi Soufi', '756405']\n",
      "5\n",
      "['Eury Kim', '682504']\n",
      "Group: 5\n",
      "5\n",
      "['Thien Le', '238467']\n",
      "10\n",
      "['Matthew Smitherman', '116847']\n",
      "13\n",
      "['Shiyang Xiao', '718927']\n",
      "2\n",
      "['darpan Jhawar', '166174']\n",
      "Group: 6\n",
      "5\n",
      "['Yang Peng', '671702']\n",
      "1\n",
      "['Blair Gentry', '289174']\n",
      "6\n",
      "['Syed Ahzaz Shah', '492924']\n",
      "8\n",
      "['Daniel Wingo', '804939']\n",
      "Group: 7\n",
      "3\n",
      "['Justin Oakley', '201430']\n",
      "2\n",
      "['Kevin Keomalaythong', '130722']\n",
      "2\n",
      "['Gregory Purvine', '94877']\n",
      "5\n",
      "['Hao Zhang', '52621']\n",
      "Group: 8\n",
      "0\n",
      "['Luke Davis', '812917']\n",
      "1\n",
      "['Saed Sayedahmed', '662179']\n",
      "0\n",
      "['Mouna Kalidindi', '540365']\n",
      "1\n",
      "['Spencer Whyatt', '497988']\n",
      "0\n",
      "['Charles Stamey', '42604']\n"
     ]
    }
   ],
   "source": [
    "# we'll need csv to retrieve csv file\n",
    "import csv\n",
    "# we'll need randint for generating a random integer\n",
    "from random import randint\n",
    "\n",
    "# retrieve contents of file and put it in a list to fiddle with\n",
    "with open('student_list.csv', 'rt') as f:\n",
    "    reader = csv.reader(f)\n",
    "    students = list(reader)\n",
    "\n",
    "# first item in the file is really just a heading\n",
    "students.remove(students[0])\n",
    "\n",
    "# grabbing size for use in for loop\n",
    "size = len(students)\n",
    "\n",
    "# these are to keep track of what group we are in for organized printing\n",
    "count = 1\n",
    "groupCount = 1\n",
    "\n",
    "for x in range(0, size):\n",
    "    # if this is true, we move onto the next group\n",
    "    if count > 4:\n",
    "        count = 1\n",
    "        groupCount += 1\n",
    "        \n",
    "    # this means we are the beginning of a group, and should print a title\n",
    "    if count == 1:\n",
    "        print('Group: %d' % (groupCount))\n",
    "        \n",
    "    # this is where we pull a random student from the file, put them in the group, and then remove them from the list\n",
    "    randVal = randint(0,len(students)-1)\n",
    "    print(randVal)\n",
    "    print(students[randVal])\n",
    "    students.remove(students[randVal])\n",
    "    \n",
    "    # if there aren't enough students left to make their own group, just add them to the last one\n",
    "    if len(students) >= 3:\n",
    "        count += 1"
   ]
  },
  {
   "cell_type": "code",
   "execution_count": null,
   "metadata": {},
   "outputs": [],
   "source": []
  }
 ],
 "metadata": {
  "kernelspec": {
   "display_name": "Python 3",
   "language": "python",
   "name": "python3"
  },
  "language_info": {
   "codemirror_mode": {
    "name": "ipython",
    "version": 3
   },
   "file_extension": ".py",
   "mimetype": "text/x-python",
   "name": "python",
   "nbconvert_exporter": "python",
   "pygments_lexer": "ipython3",
   "version": "3.6.5"
  }
 },
 "nbformat": 4,
 "nbformat_minor": 2
}
